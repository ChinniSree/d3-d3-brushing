{
 "cells": [
  {
   "cell_type": "markdown",
   "metadata": {},
   "source": [
    "# **d3-scatterplot**\n",
    "\n",
    "## **Project Overview**\n",
    "\n",
    "The interactive data visualization application **d3-scatterplot** was created with **React**, **D3.js**, and **Material-UI**.\n",
    "In addition to offering an interactive experience with choices to filter data, examine it in a table format, and personalize the display, the project \n",
    "displays data points as a scatter plot. \n",
    "Its smooth user interface elements are intended to provide users with an easy approach to study datasets."
   ]
  },
  {
   "cell_type": "markdown",
   "metadata": {},
   "source": [
    "## **1. Prerequisites**\n",
    "\n",
    "Before you begin ensure that you have the following all installed:\n",
    "\n",
    "- **Python 3.x** installed\n",
    "- A **virtual environment (venv)** set up\n",
    "- **Node.js** (version 14 or above)  \n",
    "[Download Node.js](https://nodejs.org/)\n",
    "\n",
    "- **npm** (Node Package Manager)  \n",
    "npm is typically installed with Node.js. If needed, you can install it separately.\n",
    "\n",
    "- **Material-UI**  \n",
    "Ensure you've installed **Material-UI** and its related libraries for styling components.\n"
   ]
  },
  {
   "cell_type": "markdown",
   "metadata": {},
   "source": [
    "## **2. Setting Up the Virtual Environment**\n",
    "\n",
    "To maintain dependencies and avoid conflicts, create and activate a virtual environment:\n",
    "\n",
    "### **Windows**\n",
    "```bash\n",
    "python -m venv venv\n",
    "venv\\Scripts\\activate\n",
    "```\n",
    "\n",
    "### **Mac/Linux**\n",
    "```bash\n",
    "python3 -m venv venv\n",
    "source venv/bin/activate\n",
    "```\n",
    "\n",
    "Ensure that all necessary Python packages are installed before proceeding.\n"
   ]
  },
  {
   "cell_type": "markdown",
   "metadata": {},
   "source": [
    "## **3. Changing to the Project Root Directory**\n",
    "\n",
    "Ensure you are in the correct project directory before executing the scripts. If not, change to the project root directory:\n",
    "\"/Users/chinnisreeaddagalla/Desktop/InfoVis/d3-scatterplot\"\n"
   ]
  },
  {
   "cell_type": "code",
   "execution_count": 4,
   "metadata": {},
   "outputs": [
    {
     "name": "stdout",
     "output_type": "stream",
     "text": [
      "Current Directory: /Users/chinnisreeaddagalla/Desktop/InfoVis/d3-scatterplot\n"
     ]
    }
   ],
   "source": [
    "import os\n",
    "project_root = r\"/Users/chinnisreeaddagalla/Desktop/InfoVis/d3-scatterplot\"\n",
    "os.chdir(project_root)\n",
    "print(\"Current Directory:\", os.getcwd())\n"
   ]
  },
  {
   "cell_type": "markdown",
   "metadata": {},
   "source": [
    "## 4. Running the Scatterplot \n",
    "\n",
    "### Once you’ve installed the dependencies, you can start the development server to run the scatterplot application.\n",
    "Open your terminal and navigate to your project folder (if not already in it).\n",
    "Run the following command to start the server:**\n",
    "\n",
    "```bash\n",
    "npm start \n",
    "```\n",
    "This will run the app in development mode and it will redirect it to the http://localhost:3000 in your browser to view the scatterplot visualization.\n",
    "When you make changes to the source code, the browser will automatically reload the page and reflect those changes.\n",
    "\n",
    "```bash\n",
    "npm test\n",
    "```\n",
    "\n",
    "Launches the test runner in the interactive watch mode.\n",
    "\n",
    "```bash\n",
    "npm run build\n",
    "```\n",
    "Builds the app for production to the `build` folder.\n",
    "It correctly bundles React in production mode and optimizes the build for the best performance.\n",
    "Your app is ready to be deployed!"
   ]
  },
  {
   "cell_type": "markdown",
   "metadata": {},
   "source": [
    "### **5.Dependencies**\n",
    "\n",
    "This project uses the following libraries:\n",
    "\n",
    "- **React**: JavaScript library for building user interfaces.\n",
    "- **D3.js**: A powerful library for creating interactive data visualizations.\n",
    "- **Material-UI**: UI framework for React with components and icons.\n",
    "- **react-table**: A flexible table component for displaying data."
   ]
  },
  {
   "cell_type": "markdown",
   "metadata": {},
   "source": [
    "## **6. Notes**\n",
    "- The `src/` directory contains the main React components `App.js`,`ControlPanel.js`, `Scatterplot.js`, and `TableView.js`.\n",
    "- The `movie.json` data file is located in the `public/` directory.\n",
    "- Ensure your virtual environment is activated before running the scripts.\n",
    "- If you encounter issues, verify the file paths and Python environment."
   ]
  }
 ],
 "metadata": {
  "kernelspec": {
   "display_name": "venv",
   "language": "python",
   "name": "python3"
  },
  "language_info": {
   "codemirror_mode": {
    "name": "ipython",
    "version": 3
   },
   "file_extension": ".py",
   "mimetype": "text/x-python",
   "name": "python",
   "nbconvert_exporter": "python",
   "pygments_lexer": "ipython3",
   "version": "3.9.6"
  }
 },
 "nbformat": 4,
 "nbformat_minor": 2
}
